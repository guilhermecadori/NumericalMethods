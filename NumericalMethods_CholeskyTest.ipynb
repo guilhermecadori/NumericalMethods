{
 "cells": [
  {
   "cell_type": "code",
   "execution_count": 5,
   "id": "934c55a5",
   "metadata": {},
   "outputs": [
    {
     "data": {
      "text/plain": [
       "array([[  4,  12, -16],\n",
       "       [ 12,  37, -43],\n",
       "       [-16, -43,  98]])"
      ]
     },
     "execution_count": 5,
     "metadata": {},
     "output_type": "execute_result"
    }
   ],
   "source": [
    "# Importing supporting lib\n",
    "import numpy as np\n",
    "\n",
    "# Original matrix A before factorization\n",
    "\"\"\"    [  4  12 -16]\n",
    "       [ 12  37 -43]\n",
    "       [-16 -43  98]\n",
    "\"\"\"\n",
    "\n",
    "# G and Gt were hand calculated\n",
    "G = np.array([\n",
    "     [2, 0, 0],\n",
    "     [6, 1, 0],\n",
    "     [-8, 5, 3]\n",
    "])\n",
    "\n",
    "Gt = np.array([\n",
    "      [2, 6, -8],\n",
    "      [0, 1, 5],\n",
    "      [0, 0, 3]\n",
    "])\n",
    "\n",
    "# Calculaing matrix multiplication in order to check if hand factorization was calculated correctly\n",
    "A = G @ Gt\n",
    "\n",
    "# Checking result\n",
    "A"
   ]
  },
  {
   "cell_type": "markdown",
   "id": "6a672308",
   "metadata": {},
   "source": [
    "### End"
   ]
  }
 ],
 "metadata": {
  "kernelspec": {
   "display_name": "Python 3 (ipykernel)",
   "language": "python",
   "name": "python3"
  },
  "language_info": {
   "codemirror_mode": {
    "name": "ipython",
    "version": 3
   },
   "file_extension": ".py",
   "mimetype": "text/x-python",
   "name": "python",
   "nbconvert_exporter": "python",
   "pygments_lexer": "ipython3",
   "version": "3.9.13"
  }
 },
 "nbformat": 4,
 "nbformat_minor": 5
}
