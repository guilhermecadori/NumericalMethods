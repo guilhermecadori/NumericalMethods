{
 "cells": [
  {
   "cell_type": "code",
   "execution_count": 12,
   "id": "4d20617f",
   "metadata": {},
   "outputs": [],
   "source": [
    "A = np.array([\n",
    "    [1, 0, 0, 0, 0, 0, 0, 0],\n",
    "    [1, 0.5, 0.5**2, 0.5**3, 0, 0, 0, 0],\n",
    "    [0, 0, 0, 0, 1, 0.5, 0.5**2, 0.5**3],\n",
    "    [0, 0, 0, 0, 1, 1, 1, 1],\n",
    "    [0, 1, 2*0.5, 3*0.5**2, 0, -1, -2*0.5, -3*0.5**2],\n",
    "    [0, 0, 2, 6*0.5, 0, 0, -2, -6*0.5],\n",
    "    [0, 0, 2, 0, 0, 0, 0, 0],\n",
    "    [0, 0, 0, 0, 0, 0, 2, 6]\n",
    "])\n",
    "\n",
    "b = np.array([3, 1.8616, 1.8616, -0.5571, 0, 0, 0, 0])\n",
    "\n",
    "b = b.reshape((-1, 1))\n"
   ]
  },
  {
   "cell_type": "code",
   "execution_count": 18,
   "id": "a3c25c58",
   "metadata": {},
   "outputs": [
    {
     "name": "stdout",
     "output_type": "stream",
     "text": [
      "Solution x:\n",
      "[[ 3.    ]\n",
      " [-1.6367]\n",
      " [-0.    ]\n",
      " [-2.5606]\n",
      " [ 2.3599]\n",
      " [ 2.2042]\n",
      " [-7.6818]\n",
      " [ 2.5606]]\n"
     ]
    }
   ],
   "source": [
    "import numpy as np\n",
    "\n",
    "x = np.linalg.solve(A, b)\n",
    "\n",
    "x = np.round(x, decimals=4)\n",
    "\n",
    "print(\"Solution x:\")\n",
    "print(x)\n"
   ]
  },
  {
   "cell_type": "code",
   "execution_count": 17,
   "id": "96e0f659",
   "metadata": {},
   "outputs": [
    {
     "name": "stdout",
     "output_type": "stream",
     "text": [
      "Matrix A:\n",
      "[[ 1.     0.     0.     0.     0.     0.     0.     0.   ]\n",
      " [ 1.     0.5    0.25   0.125  0.     0.     0.     0.   ]\n",
      " [ 0.     0.     0.     0.     1.     0.5    0.25   0.125]\n",
      " [ 0.     0.     0.     0.     1.     1.     1.     1.   ]\n",
      " [ 0.     1.     1.     0.75   0.    -1.    -1.    -0.75 ]\n",
      " [ 0.     0.     2.     3.     0.     0.    -2.    -3.   ]\n",
      " [ 0.     0.     2.     0.     0.     0.     0.     0.   ]\n",
      " [ 0.     0.     0.     0.     0.     0.     2.     6.   ]]\n"
     ]
    }
   ],
   "source": [
    "# Used to check the calculations of A defined above\n",
    "print(\"Matrix A:\")\n",
    "print(A)\n"
   ]
  },
  {
   "cell_type": "markdown",
   "id": "bf3daeab",
   "metadata": {},
   "source": [
    "### End"
   ]
  }
 ],
 "metadata": {
  "kernelspec": {
   "display_name": "Python 3 (ipykernel)",
   "language": "python",
   "name": "python3"
  },
  "language_info": {
   "codemirror_mode": {
    "name": "ipython",
    "version": 3
   },
   "file_extension": ".py",
   "mimetype": "text/x-python",
   "name": "python",
   "nbconvert_exporter": "python",
   "pygments_lexer": "ipython3",
   "version": "3.9.13"
  }
 },
 "nbformat": 4,
 "nbformat_minor": 5
}
