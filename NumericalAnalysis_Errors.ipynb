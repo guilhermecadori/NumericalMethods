{
 "cells": [
  {
   "cell_type": "code",
   "execution_count": 11,
   "id": "508d8b29",
   "metadata": {},
   "outputs": [
    {
     "name": "stdout",
     "output_type": "stream",
     "text": [
      "3300.0000000006285\n"
     ]
    }
   ],
   "source": [
    "# Precision - Double (\"float\" in Python)\n",
    "# There is no \"Simple\" precision in Python in the base Python\n",
    "# Simple precision should provide something like ~3300.9...\n",
    "size = 30000 \n",
    "\n",
    "x = 0\n",
    "\n",
    "for i in range(size):\n",
    "    x += 0.11\n",
    "\n",
    "print(x)\n"
   ]
  },
  {
   "cell_type": "code",
   "execution_count": null,
   "id": "12589a69",
   "metadata": {},
   "outputs": [],
   "source": []
  }
 ],
 "metadata": {
  "kernelspec": {
   "display_name": "Python 3 (ipykernel)",
   "language": "python",
   "name": "python3"
  },
  "language_info": {
   "codemirror_mode": {
    "name": "ipython",
    "version": 3
   },
   "file_extension": ".py",
   "mimetype": "text/x-python",
   "name": "python",
   "nbconvert_exporter": "python",
   "pygments_lexer": "ipython3",
   "version": "3.9.13"
  }
 },
 "nbformat": 4,
 "nbformat_minor": 5
}
